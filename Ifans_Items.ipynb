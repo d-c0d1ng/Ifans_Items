{
 "cells": [
  {
   "cell_type": "markdown",
   "metadata": {},
   "source": [
    "In this project we are going to creat a quick and simple text based game with the goal of creating a mythical set of armour and weapons, known as Ifan's Items.\n",
    "\n",
    "First, lets define a weapon class."
   ]
  },
  {
   "cell_type": "code",
   "execution_count": 22,
   "metadata": {},
   "outputs": [],
   "source": [
    "class Weapon:\n",
    "    def __init__(self, name, type, base_value, kill_count):\n",
    "        self.name = name\n",
    "        self.type = type\n",
    "        self.base_value = base_value\n",
    "        self.kill_count = kill_count\n",
    "        self.level = round((self.kill_count + 10)/10, 0)\n",
    "        self.value = self.base_value * self.level\n",
    "    \n",
    "    def __repr__(self):\n",
    "        return \"{name} is a level {level} {type}. It has a kill count of {kill_count} and a value of {value} gold coins.\".format(name = self.name, level = self.level, type = self.type, value = self.value, kill_count = self.kill_count)\n",
    "    \n",
    "    def add_kills(self, n_kills):\n",
    "        self.kill_count += n_kills\n",
    "        print(\"{name}'s kill count has increased by {n_kills} to {kill_count}.\".format(name = self.name, n_kills = n_kills, kill_count = self.kill_count))\n",
    "        self.level = round((self.kill_count + 10)/10, 0)\n",
    "        self.value = self.base_value * self.level\n",
    "\n",
    "    def change_name(self, new_name):\n",
    "        if self.level > 10:\n",
    "            print(\"{old_name} is now called {new_name}.\".format(old_name = self.name, new_name = new_name))\n",
    "            self.name = new_name\n",
    "            self.level -= 10.0\n",
    "        else: print(self.name + \" is not high enough level to change names\")\n",
    "\n",
    "    def do_damage(self, target):\n",
    "        target.health -= self.base_value\n",
    "        if target.health > 0:\n",
    "            self.add_kills(1)\n",
    "        print(\"{name} did {base_value} damage to {target}\".format(name = self.name, base_value = self.base_value, target = target.name))"
   ]
  },
  {
   "cell_type": "markdown",
   "metadata": {},
   "source": [
    "Next lets create character class."
   ]
  },
  {
   "cell_type": "code",
   "execution_count": null,
   "metadata": {},
   "outputs": [],
   "source": [
    "class Character:\n",
    "    def __init__(self, name, health, wealth, inventory):\n",
    "        self.name = name\n",
    "        self.health = health\n",
    "        self.wealth = wealth\n",
    "        self.inventory = inventory"
   ]
  },
  {
   "cell_type": "markdown",
   "metadata": {},
   "source": [
    "Next we are going to create an object with the Weapon class."
   ]
  },
  {
   "cell_type": "code",
   "execution_count": 23,
   "metadata": {},
   "outputs": [
    {
     "name": "stdout",
     "output_type": "stream",
     "text": [
      "Migdul is a level 3.0 sword. It has a kill count of 18 and a value of 600.0 gold coins.\n"
     ]
    }
   ],
   "source": [
    "Migdul = Weapon(\"Migdul\", \"sword\", 200, 18)\n",
    "print(Migdul)"
   ]
  },
  {
   "cell_type": "markdown",
   "metadata": {},
   "source": [
    "Let's use our methods to change the kill count of our mythical weapon by killing some goblins and level up our sword so we can rename it"
   ]
  },
  {
   "cell_type": "code",
   "execution_count": 24,
   "metadata": {},
   "outputs": [
    {
     "name": "stdout",
     "output_type": "stream",
     "text": [
      "Migdul's kill count has increased by 90 to 108.\n",
      "Migdul is a level 12.0 sword. It has a kill count of 108 and a value of 2400.0 gold coins.\n"
     ]
    }
   ],
   "source": [
    "Migdul.add_kills(90)\n",
    "print(Migdul)"
   ]
  },
  {
   "cell_type": "markdown",
   "metadata": {},
   "source": [
    "Migdul has been used to destroy loads of goblins, so maybe it's time its name reflected that."
   ]
  },
  {
   "cell_type": "code",
   "execution_count": 25,
   "metadata": {},
   "outputs": [
    {
     "name": "stdout",
     "output_type": "stream",
     "text": [
      "Migdul is now called Migdul Goblinsbane.\n",
      "Migdul Goblinsbane is a level 2.0 sword. It has a kill count of 108 and a value of 2400.0 gold coins.\n"
     ]
    }
   ],
   "source": [
    "Migdul.change_name(\"Migdul Goblinsbane\")\n",
    "print(Migdul)"
   ]
  },
  {
   "cell_type": "markdown",
   "metadata": {},
   "source": [
    "Great, Migdul Goblinsbane sounds like a fantastic sword!"
   ]
  }
 ],
 "metadata": {
  "kernelspec": {
   "display_name": "Python 3.10.7 64-bit (microsoft store)",
   "language": "python",
   "name": "python3"
  },
  "language_info": {
   "codemirror_mode": {
    "name": "ipython",
    "version": 3
   },
   "file_extension": ".py",
   "mimetype": "text/x-python",
   "name": "python",
   "nbconvert_exporter": "python",
   "pygments_lexer": "ipython3",
   "version": "3.10.7"
  },
  "orig_nbformat": 4,
  "vscode": {
   "interpreter": {
    "hash": "c40c2e94b44540d55f16bcb7a9e45ade0708cf295825c98f3d38101cabba3f32"
   }
  }
 },
 "nbformat": 4,
 "nbformat_minor": 2
}
